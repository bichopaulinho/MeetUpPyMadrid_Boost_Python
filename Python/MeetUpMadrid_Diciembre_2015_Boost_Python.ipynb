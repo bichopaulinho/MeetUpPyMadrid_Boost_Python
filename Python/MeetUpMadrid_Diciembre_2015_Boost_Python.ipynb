{
 "cells": [
  {
   "cell_type": "markdown",
   "metadata": {
    "slideshow": {
     "slide_type": "slide"
    }
   },
   "source": [
    "# Boost Python"
   ]
  },
  {
   "cell_type": "markdown",
   "metadata": {
    "slideshow": {
     "slide_type": "subslide"
    }
   },
   "source": [
    "## Pedro Valiente\n",
    "\n",
    "### @pvalienteverde\n"
   ]
  },
  {
   "cell_type": "markdown",
   "metadata": {
    "slideshow": {
     "slide_type": "slide"
    }
   },
   "source": [
    "# Hola Mundo"
   ]
  },
  {
   "cell_type": "markdown",
   "metadata": {
    "slideshow": {
     "slide_type": "fragment"
    }
   },
   "source": [
    "**Caso:** Funcion sencilla sin argumentos y ningun valor de retorno"
   ]
  },
  {
   "cell_type": "markdown",
   "metadata": {
    "slideshow": {
     "slide_type": "fragment"
    }
   },
   "source": [
    "**WrapperFunciones/src/hola_mundo/ejemplo1.cpp**\n",
    "```c++\n",
    "#include <iostream>\n",
    "#include <string>\n",
    "#include <boost/python.hpp>\n",
    "\n",
    "void HolaMundo() {\n",
    "\tstd::cout << \"Hola Mundo\" << std::endl;\n",
    "}\n",
    "\n",
    "BOOST_PYTHON_MODULE(ejemplo1)\n",
    "{\n",
    "\tboost::python::def(\"hola_mundo\", HolaMundo,\n",
    "\t\t\t\"Funcion que muestra nuestro primer saludo\");\n",
    "}\n",
    "```\n",
    "Codigo para compilar:\n",
    "\n",
    "```bash\n",
    "g++ -I/usr/include/python3.4m -c -std=c++14 -fPIC  -o ejemplo1.o ejemplo1.cpp\n",
    "g++ -shared -lboost_python3 -o \"ejemplo1.so\"  ./ejemplo1.o\n",
    "```"
   ]
  },
  {
   "cell_type": "markdown",
   "metadata": {
    "slideshow": {
     "slide_type": "slide"
    }
   },
   "source": [
    "# std::vector <-> numpy \n"
   ]
  },
  {
   "cell_type": "markdown",
   "metadata": {
    "slideshow": {
     "slide_type": "fragment"
    }
   },
   "source": [
    "**Caso:** Tenemos una funcion que multiplica un factor a cada elemento del vector:\n"
   ]
  },
  {
   "cell_type": "markdown",
   "metadata": {
    "slideshow": {
     "slide_type": "fragment"
    }
   },
   "source": [
    "\n",
    "**WrapperFunciones/src/vector/multiplicacion.cpp**\n",
    "```c++\n",
    "#include <vector>\n",
    "#include <algorithm>\n",
    "#include \"multiplicacion.h\"\n",
    "\n",
    "std::vector<double> Multiplicacion(const std::vector<double> &datos, double factor) {\n",
    "\tstd::vector<double> datos_transformados(datos);\n",
    "\tstd::transform(datos_transformados.begin(), datos_transformados.end(),\n",
    "\t\t\tdatos_transformados.begin(),\n",
    "\t\t\t[&factor](auto a) {return (a*factor);});\n",
    "\treturn datos_transformados;\n",
    "}\n",
    "```"
   ]
  },
  {
   "cell_type": "markdown",
   "metadata": {
    "slideshow": {
     "slide_type": "subslide"
    }
   },
   "source": [
    "### 1 Solucion: Aproximacion por medio de una funcion auxiliar que convierta los tipos\n",
    "* La funcion auxiliar *wrapper_multiplicacion* envuelve la funcion que queremos exponer"
   ]
  },
  {
   "cell_type": "markdown",
   "metadata": {
    "slideshow": {
     "slide_type": "subslide"
    }
   },
   "source": [
    "**WrapperFunciones/src/vector/ejemplo7.cpp**\n",
    "```c++\n",
    "#include <iostream>\n",
    "#include <boost/python.hpp>\n",
    "#include \"boost/python/stl_iterator.hpp\"\n",
    "#include \"boost/python/numeric.hpp\"\n",
    "#include <boost/assign/std/vector.hpp>\n",
    "#include \"multiplicacion.h\"\n",
    "\n",
    "namespace py = boost::python;\n",
    "\n",
    "py::numeric::array wrapper_multiplicacion(const py::numeric::array& datos, double factor = 1) {\n",
    "\tpy::stl_input_iterator<double> begin(datos), end;\n",
    "\tstd::vector<double> datos_transformar(begin, end);\n",
    "    \n",
    "\tauto nuevos_datos = Multiplicacion(datos_transformar, factor);\n",
    "    \n",
    "\tpy::list resultado;\n",
    "\tfor (auto const &i : nuevos_datos)\n",
    "\t\tresultado.append(i);\n",
    "\n",
    "\treturn py::numeric::array(resultado);\n",
    "}\n",
    "\n",
    "BOOST_PYTHON_FUNCTION_OVERLOADS(args_por_defecto_multiplicacion, wrapper_multiplicacion, 1, 2);\n",
    "BOOST_PYTHON_MODULE(ejemplo7)\n",
    "{\n",
    "\tpy::numeric::array::set_module_and_type(\"numpy\", \"ndarray\");\n",
    "\tpy::def(\"wrapper_multiplicacion\", wrapper_multiplicacion,args_por_defecto_multiplicacion());\n",
    "}\n",
    "```"
   ]
  },
  {
   "cell_type": "code",
   "execution_count": 100,
   "metadata": {
    "collapsed": false,
    "slideshow": {
     "slide_type": "subslide"
    }
   },
   "outputs": [
    {
     "data": {
      "text/plain": [
       "array([ 0.,  1.,  2.,  3.,  4.])"
      ]
     },
     "execution_count": 100,
     "metadata": {},
     "output_type": "execute_result"
    }
   ],
   "source": [
    "import numpy as np\n",
    "\n",
    "factor_multiplicacion=1.5\n",
    "numero_de_elementos=5\n",
    "vector = np.arange(numero_de_elementos,dtype=np.float64)\n",
    "vector"
   ]
  },
  {
   "cell_type": "code",
   "execution_count": 101,
   "metadata": {
    "collapsed": false,
    "slideshow": {
     "slide_type": "fragment"
    }
   },
   "outputs": [
    {
     "data": {
      "text/plain": [
       "array([ 0. ,  1.5,  3. ,  4.5,  6. ])"
      ]
     },
     "execution_count": 101,
     "metadata": {},
     "output_type": "execute_result"
    }
   ],
   "source": [
    "import ejemplo7\n",
    "ejemplo7.wrapper_multiplicacion(vector,factor_multiplicacion)"
   ]
  },
  {
   "cell_type": "markdown",
   "metadata": {
    "slideshow": {
     "slide_type": "subslide"
    }
   },
   "source": [
    "### 2 Solucion: Aproximacion por medio del registro de tipos de conversion\n",
    "* Por medio de la creacion de conversores explicitos, tanto de C++ a Python como viceversa\n",
    "* **Ventajas**: Una vez definido los conversores, la extension del codigo c++ a python es directo. En mi [repo](https://github.com/pvalienteverde/MeetUpPyMadrid_Boost_Python/tree/master/WrapperClases/convertidores \"Libreria de convertidores\") está definidos los siguientes conversores: \n",
    "\n",
    "| **C++** | **Python** | **Notas**         \n",
    "| :---------: |:---------:\n",
    "|std::vector< double >| numpy | *En realidad cualquier clase iterable que se pueda construir por medio de iteradores y que la clase que contenga, tenga definido el constructor copia*\n",
    "|boost::posix_time::time_duration|datetime.timedelta||\n",
    "|boost::gregorian::date|datetime.date||\n",
    "|boost::posix_time::ptime|datetime||\n",
    "|boost::local_time::local_date_time|datetime|*Por ahora, unicamente reconoce la zona horaria UTC*\n",
    "\n",
    "\n"
   ]
  },
  {
   "cell_type": "markdown",
   "metadata": {
    "slideshow": {
     "slide_type": "subslide"
    }
   },
   "source": [
    "**WrapperFunciones/src/vector/ejemplo8.cpp**\n",
    "\n",
    "```c++\n",
    "#include <iostream>\n",
    "#include <boost/python.hpp>\n",
    "#include \"multiplicacion.h\"\n",
    "#include \"../../../WrapperClases/convertidores/include/envoltorio_objetos_iterables.h\"\n",
    "\n",
    "namespace py = boost::python;\n",
    "\n",
    "BOOST_PYTHON_FUNCTION_OVERLOADS(args_por_defecto_multiplicacion, multiplicacion, 1, 2);\n",
    "BOOST_PYTHON_MODULE(ejemplo8){\n",
    "\tconvertidores::RegistrarObjetosIterables<std::vector<double>>();\n",
    "\tpy::def(\"wrapper_multiplicacion\", Multiplicacion);\n",
    "}\n",
    "```"
   ]
  },
  {
   "cell_type": "code",
   "execution_count": 102,
   "metadata": {
    "collapsed": false,
    "slideshow": {
     "slide_type": "fragment"
    }
   },
   "outputs": [
    {
     "data": {
      "text/plain": [
       "array([ 0. ,  1.5,  3. ,  4.5,  6. ])"
      ]
     },
     "execution_count": 102,
     "metadata": {},
     "output_type": "execute_result"
    }
   ],
   "source": [
    "import ejemplo8\n",
    "ejemplo8.wrapper_multiplicacion(vector,factor_multiplicacion)"
   ]
  },
  {
   "cell_type": "markdown",
   "metadata": {
    "slideshow": {
     "slide_type": "slide"
    }
   },
   "source": [
    "# Wrappers De Clases / Libreria Externa"
   ]
  },
  {
   "cell_type": "code",
   "execution_count": 103,
   "metadata": {
    "collapsed": false,
    "slideshow": {
     "slide_type": "subslide"
    }
   },
   "outputs": [
    {
     "data": {
      "text/plain": [
       "10"
      ]
     },
     "execution_count": 103,
     "metadata": {},
     "output_type": "execute_result"
    }
   ],
   "source": [
    "a=10\n",
    "a"
   ]
  }
 ],
 "metadata": {
  "celltoolbar": "Slideshow",
  "kernelspec": {
   "display_name": "Python 3",
   "language": "python",
   "name": "python3"
  },
  "language_info": {
   "codemirror_mode": {
    "name": "ipython",
    "version": 3
   },
   "file_extension": ".py",
   "mimetype": "text/x-python",
   "name": "python",
   "nbconvert_exporter": "python",
   "pygments_lexer": "ipython3",
   "version": "3.4.2"
  }
 },
 "nbformat": 4,
 "nbformat_minor": 0
}
